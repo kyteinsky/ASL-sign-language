{
 "cells": [
  {
   "cell_type": "code",
   "execution_count": 1,
   "metadata": {
    "execution": {
     "iopub.execute_input": "2020-09-15T20:10:43.948371Z",
     "iopub.status.busy": "2020-09-15T20:10:43.947439Z",
     "iopub.status.idle": "2020-09-15T20:10:43.950654Z",
     "shell.execute_reply": "2020-09-15T20:10:43.950050Z"
    },
    "papermill": {
     "duration": 0.023428,
     "end_time": "2020-09-15T20:10:43.950757",
     "exception": false,
     "start_time": "2020-09-15T20:10:43.927329",
     "status": "completed"
    },
    "tags": []
   },
   "outputs": [],
   "source": [
    "# !pip install --upgrade wandb -q\n",
    "# !wandb login <API KEY>"
   ]
  },
  {
   "cell_type": "code",
   "execution_count": 2,
   "metadata": {
    "_cell_guid": "79c7e3d0-c299-4dcb-8224-4455121ee9b0",
    "_uuid": "d629ff2d2480ee46fbb7e2d37f6b5fab8052498a",
    "execution": {
     "iopub.execute_input": "2020-09-15T20:10:43.986827Z",
     "iopub.status.busy": "2020-09-15T20:10:43.986185Z",
     "iopub.status.idle": "2020-09-15T20:10:46.439588Z",
     "shell.execute_reply": "2020-09-15T20:10:46.438736Z"
    },
    "papermill": {
     "duration": 2.473261,
     "end_time": "2020-09-15T20:10:46.439711",
     "exception": false,
     "start_time": "2020-09-15T20:10:43.966450",
     "status": "completed"
    },
    "tags": []
   },
   "outputs": [],
   "source": [
    "import torch\n",
    "import torchvision.transforms as transforms\n",
    "import pandas as pd\n",
    "import os\n",
    "import matplotlib.pyplot as plt\n",
    "import wandb\n",
    "# %matplotlib inline\n",
    "# from PIL import Image"
   ]
  },
  {
   "cell_type": "markdown",
   "metadata": {
    "papermill": {
     "duration": 0.014639,
     "end_time": "2020-09-15T20:10:46.469852",
     "exception": false,
     "start_time": "2020-09-15T20:10:46.455213",
     "status": "completed"
    },
    "tags": []
   },
   "source": [
    "## config"
   ]
  },
  {
   "cell_type": "code",
   "execution_count": 3,
   "metadata": {
    "execution": {
     "iopub.execute_input": "2020-09-15T20:10:46.504949Z",
     "iopub.status.busy": "2020-09-15T20:10:46.504350Z",
     "iopub.status.idle": "2020-09-15T20:10:46.508860Z",
     "shell.execute_reply": "2020-09-15T20:10:46.508300Z"
    },
    "papermill": {
     "duration": 0.023912,
     "end_time": "2020-09-15T20:10:46.508953",
     "exception": false,
     "start_time": "2020-09-15T20:10:46.485041",
     "status": "completed"
    },
    "tags": []
   },
   "outputs": [],
   "source": [
    "ds_dir = '/kaggle/input/sign-language-mnist/'\n",
    "\n",
    "epochs = 25\n",
    "lr = 0.001\n",
    "# momentum = 0.9\n",
    "train_batch_size = 12000 #27455\n",
    "test_batch_size = 5000 #7172\n",
    "wb = False"
   ]
  },
  {
   "cell_type": "markdown",
   "metadata": {
    "papermill": {
     "duration": 0.014572,
     "end_time": "2020-09-15T20:10:46.538603",
     "exception": false,
     "start_time": "2020-09-15T20:10:46.524031",
     "status": "completed"
    },
    "tags": []
   },
   "source": [
    "## dataset"
   ]
  },
  {
   "cell_type": "code",
   "execution_count": 4,
   "metadata": {
    "execution": {
     "iopub.execute_input": "2020-09-15T20:10:46.583987Z",
     "iopub.status.busy": "2020-09-15T20:10:46.582206Z",
     "iopub.status.idle": "2020-09-15T20:10:46.584744Z",
     "shell.execute_reply": "2020-09-15T20:10:46.585230Z"
    },
    "papermill": {
     "duration": 0.03052,
     "end_time": "2020-09-15T20:10:46.585346",
     "exception": false,
     "start_time": "2020-09-15T20:10:46.554826",
     "status": "completed"
    },
    "tags": []
   },
   "outputs": [],
   "source": [
    "from torch.utils.data import Dataset, DataLoader\n",
    "class dataset(Dataset):\n",
    "    def __init__(self, csv_file, root_dir, transform=None):\n",
    "        csv_dir = os.path.join(root_dir, csv_file)\n",
    "        csv = pd.read_csv(csv_dir)\n",
    "        self.labels = csv.iloc[:,0]\n",
    "        self.images = csv.iloc[:,1:]\n",
    "        self.images = (self.images.values).reshape(-1,28,28).astype('float32')\n",
    "        self.labels = torch.tensor(self.labels)\n",
    "#         self.labels = F.one_hot(self.labels)\n",
    "        if transform:\n",
    "            for i in range(self.images.shape[0]):\n",
    "                self.images[i] = transform(self.images[i])\n",
    "    \n",
    "    def __len__(self):\n",
    "        return len(self.labels)\n",
    "    \n",
    "    def __getitem__(self, index):\n",
    "#         if torch.is_tensor(index):\n",
    "#             index = index.tolist()\n",
    "        \n",
    "        img = self.images[index]\n",
    "        label = self.labels[index]\n",
    "    \n",
    "        sample = {'image': img, 'label': label}\n",
    "        \n",
    "        return sample\n",
    "\n",
    "# ds = dataset('sign_mnist_test/sign_mnist_test.csv', ds_dir, transform=None)\n",
    "# ds[0]['label']"
   ]
  },
  {
   "cell_type": "code",
   "execution_count": 5,
   "metadata": {
    "execution": {
     "iopub.execute_input": "2020-09-15T20:10:46.621185Z",
     "iopub.status.busy": "2020-09-15T20:10:46.619383Z",
     "iopub.status.idle": "2020-09-15T20:10:46.621828Z",
     "shell.execute_reply": "2020-09-15T20:10:46.622337Z"
    },
    "papermill": {
     "duration": 0.021863,
     "end_time": "2020-09-15T20:10:46.622459",
     "exception": false,
     "start_time": "2020-09-15T20:10:46.600596",
     "status": "completed"
    },
    "tags": []
   },
   "outputs": [],
   "source": [
    "# csv = pd.read_csv(os.path.join(ds_dir, 'sign_mnist_test/sign_mnist_test.csv'))\n",
    "# # print(csv.loc[csv['label'] == 9].head())\n",
    "# # img = csv.iloc[21, 1:]\n",
    "# # img = (img.values).reshape(28,28).astype('float32')\n",
    "# # plt.imshow(img, 'gray')\n",
    "# labels = F.one_hot(torch.tensor(csv.iloc[:,0]))\n",
    "# for i in range (50):\n",
    "#     print('eeky' if labels[i][9] != 0 else '', end='')"
   ]
  },
  {
   "cell_type": "markdown",
   "metadata": {
    "papermill": {
     "duration": 0.015068,
     "end_time": "2020-09-15T20:10:46.652587",
     "exception": false,
     "start_time": "2020-09-15T20:10:46.637519",
     "status": "completed"
    },
    "tags": []
   },
   "source": [
    "## dataloader"
   ]
  },
  {
   "cell_type": "code",
   "execution_count": 6,
   "metadata": {
    "execution": {
     "iopub.execute_input": "2020-09-15T20:10:46.697893Z",
     "iopub.status.busy": "2020-09-15T20:10:46.697291Z",
     "iopub.status.idle": "2020-09-15T20:10:58.319239Z",
     "shell.execute_reply": "2020-09-15T20:10:58.318675Z"
    },
    "papermill": {
     "duration": 11.651683,
     "end_time": "2020-09-15T20:10:58.319360",
     "exception": false,
     "start_time": "2020-09-15T20:10:46.667677",
     "status": "completed"
    },
    "tags": []
   },
   "outputs": [
    {
     "name": "stderr",
     "output_type": "stream",
     "text": [
      "/opt/conda/conda-bld/pytorch_1591914880026/work/torch/csrc/utils/tensor_numpy.cpp:141: UserWarning: The given NumPy array is not writeable, and PyTorch does not support non-writeable tensors. This means you can write to the underlying (supposedly non-writeable) NumPy array using the tensor. You may want to copy the array to protect its data or make it writeable before converting it to a tensor. This type of warning will be suppressed for the rest of this program.\n"
     ]
    }
   ],
   "source": [
    "transform = transforms.Compose(\n",
    "    [transforms.ToPILImage(),\n",
    "     transforms.RandomRotation(degrees=5),\n",
    "     transforms.ToTensor(),\n",
    "     transforms.Normalize(0.5, 0.5)])\n",
    "\n",
    "trainset = dataset('sign_mnist_train/sign_mnist_train.csv', ds_dir, transform=transform)\n",
    "trainloader = torch.utils.data.DataLoader(trainset, batch_size=train_batch_size,\n",
    "                                          shuffle=True, num_workers=1)\n",
    "\n",
    "testset = dataset('sign_mnist_test/sign_mnist_test.csv', ds_dir, transform=transform)\n",
    "testloader = torch.utils.data.DataLoader(testset, batch_size=test_batch_size,\n",
    "                                          shuffle=True, num_workers=1)\n",
    "\n",
    "classes = ['A', 'B', 'C', 'D', 'E', 'F', 'G', 'H', 'I', 'J', 'K', 'L', 'M', 'N', 'O', 'P', 'Q', 'R', 'S', 'T', 'U', 'V', 'W', 'X', 'Y'] # no 'J' or 'Z'"
   ]
  },
  {
   "cell_type": "code",
   "execution_count": 7,
   "metadata": {
    "execution": {
     "iopub.execute_input": "2020-09-15T20:10:58.356031Z",
     "iopub.status.busy": "2020-09-15T20:10:58.355226Z",
     "iopub.status.idle": "2020-09-15T20:10:58.358203Z",
     "shell.execute_reply": "2020-09-15T20:10:58.357730Z"
    },
    "papermill": {
     "duration": 0.022374,
     "end_time": "2020-09-15T20:10:58.358309",
     "exception": false,
     "start_time": "2020-09-15T20:10:58.335935",
     "status": "completed"
    },
    "tags": []
   },
   "outputs": [],
   "source": [
    "# import string\n",
    "# for i in string.ascii_uppercase:\n",
    "#     print(f'\\'{i}\\', ', end='')"
   ]
  },
  {
   "cell_type": "markdown",
   "metadata": {
    "papermill": {
     "duration": 0.015778,
     "end_time": "2020-09-15T20:10:58.389665",
     "exception": false,
     "start_time": "2020-09-15T20:10:58.373887",
     "status": "completed"
    },
    "tags": []
   },
   "source": [
    "## sneak peek"
   ]
  },
  {
   "cell_type": "code",
   "execution_count": 8,
   "metadata": {
    "execution": {
     "iopub.execute_input": "2020-09-15T20:10:58.429932Z",
     "iopub.status.busy": "2020-09-15T20:10:58.429222Z",
     "iopub.status.idle": "2020-09-15T20:10:58.774938Z",
     "shell.execute_reply": "2020-09-15T20:10:58.774365Z"
    },
    "papermill": {
     "duration": 0.369496,
     "end_time": "2020-09-15T20:10:58.775049",
     "exception": false,
     "start_time": "2020-09-15T20:10:58.405553",
     "status": "completed"
    },
    "tags": []
   },
   "outputs": [
    {
     "data": {
      "image/png": "[encoded data removed]",
      "text/plain": [
       "<Figure size 432x288 with 1 Axes>"
      ]
     },
     "metadata": {
      "needs_background": "light"
     },
     "output_type": "display_data"
    },
    {
     "data": {
      "image/png": "[encoded data removed]",
      "text/plain": [
       "<Figure size 432x288 with 1 Axes>"
      ]
     },
     "metadata": {
      "needs_background": "light"
     },
     "output_type": "display_data"
    },
    {
     "data": {
      "image/png": "[encoded data removed]",
      "text/plain": [
       "<Figure size 432x288 with 1 Axes>"
      ]
     },
     "metadata": {
      "needs_background": "light"
     },
     "output_type": "display_data"
    },
    {
     "data": {
      "image/png": "[encoded data removed]",
      "text/plain": [
       "<Figure size 432x288 with 1 Axes>"
      ]
     },
     "metadata": {
      "needs_background": "light"
     },
     "output_type": "display_data"
    }
   ],
   "source": [
    "def show_imgs(image, label):\n",
    "    plt.imshow(torch.squeeze(torch.tensor(image)), 'gray')\n",
    "    plt.pause(0.001)\n",
    "\n",
    "fig = plt.figure()\n",
    "\n",
    "for i in range(len(trainset)):\n",
    "    sample = trainset[i]\n",
    "    \n",
    "#     print(i, sample['image'].shape, sample['label'].shape)\n",
    "\n",
    "    ax = plt.subplot(1, 4, i + 1)\n",
    "    ax.set_title('= {} ='.format(classes[sample['label']]))\n",
    "    ax.axis('off')\n",
    "    plt.tight_layout()\n",
    "    show_imgs(**sample)\n",
    "    \n",
    "\n",
    "    if i == 3:\n",
    "        plt.show()\n",
    "        break"
   ]
  },
  {
   "cell_type": "markdown",
   "metadata": {
    "papermill": {
     "duration": 0.018286,
     "end_time": "2020-09-15T20:10:58.811984",
     "exception": false,
     "start_time": "2020-09-15T20:10:58.793698",
     "status": "completed"
    },
    "tags": []
   },
   "source": [
    "## model"
   ]
  },
  {
   "cell_type": "code",
   "execution_count": 9,
   "metadata": {
    "execution": {
     "iopub.execute_input": "2020-09-15T20:10:58.867645Z",
     "iopub.status.busy": "2020-09-15T20:10:58.866841Z",
     "iopub.status.idle": "2020-09-15T20:10:58.869388Z",
     "shell.execute_reply": "2020-09-15T20:10:58.869831Z"
    },
    "papermill": {
     "duration": 0.039676,
     "end_time": "2020-09-15T20:10:58.869949",
     "exception": false,
     "start_time": "2020-09-15T20:10:58.830273",
     "status": "completed"
    },
    "tags": []
   },
   "outputs": [],
   "source": [
    "import torch.nn as nn\n",
    "import torch.nn.functional as F\n",
    "\n",
    "class Net(nn.Module):\n",
    "    def __init__(self):\n",
    "        super(Net, self).__init__()\n",
    "        self.conv1 = nn.Conv2d(1, 16, 2)\n",
    "        self.pool = nn.MaxPool2d(2)\n",
    "        self.batch_norm1 = nn.BatchNorm2d(16)\n",
    "        self.conv2 = nn.Conv2d(16, 64, 3)\n",
    "        self.batch_norm2 = nn.BatchNorm2d(64)\n",
    "        self.conv3 = nn.Conv2d(64, 128, 3)\n",
    "        self.batch_norm3 = nn.BatchNorm2d(128)\n",
    "        self.fc1 = nn.Linear(2048, 1024)\n",
    "        self.dropout = nn.Dropout(0.2)\n",
    "        self.fc2 = nn.Linear(1024, 512)\n",
    "        self.batch_norm4 = nn.BatchNorm1d(512)\n",
    "        self.fc3 = nn.Linear(512, 256)\n",
    "        self.fc4 = nn.Linear(256, 25)\n",
    "\n",
    "    def forward(self, x):\n",
    "        # correct shape\n",
    "        x = x.reshape(-1, 1, 28, 28)\n",
    "        # conv blocks\n",
    "        x = self.pool(F.relu(self.conv1(x)))\n",
    "        x = self.batch_norm1(x)\n",
    "        x = self.swish(self.conv2(x))\n",
    "        x = self.dropout(x)\n",
    "        x = self.batch_norm2(x)\n",
    "        x = self.pool(self.swish(self.conv3(x)))\n",
    "        x = self.dropout(x)\n",
    "        x = self.batch_norm3(x)\n",
    "        # reshape for linear layers\n",
    "        x = x.view(-1, 128*4*4)\n",
    "        # linear block\n",
    "        x = self.swish(self.fc1(x))\n",
    "        x = self.dropout(x)\n",
    "        x = self.swish(self.fc2(x))\n",
    "        x = self.dropout(x)\n",
    "        x = self.batch_norm4(x)\n",
    "        x = F.relu(self.fc3(x))\n",
    "        x = self.fc4(x)\n",
    "        return x\n",
    "        \n",
    "    def swish(self, x):\n",
    "        return x * F.sigmoid(x)\n",
    "\n",
    "# net = Net()\n",
    "# net(torch.randn(2, 1, 28, 28)).shape"
   ]
  },
  {
   "cell_type": "markdown",
   "metadata": {
    "papermill": {
     "duration": 0.018245,
     "end_time": "2020-09-15T20:10:58.908786",
     "exception": false,
     "start_time": "2020-09-15T20:10:58.890541",
     "status": "completed"
    },
    "tags": []
   },
   "source": [
    "## model summary"
   ]
  },
  {
   "cell_type": "code",
   "execution_count": 10,
   "metadata": {
    "execution": {
     "iopub.execute_input": "2020-09-15T20:10:58.957774Z",
     "iopub.status.busy": "2020-09-15T20:10:58.956913Z",
     "iopub.status.idle": "2020-09-15T20:10:58.990632Z",
     "shell.execute_reply": "2020-09-15T20:10:58.989971Z"
    },
    "papermill": {
     "duration": 0.063279,
     "end_time": "2020-09-15T20:10:58.990767",
     "exception": false,
     "start_time": "2020-09-15T20:10:58.927488",
     "status": "completed"
    },
    "tags": []
   },
   "outputs": [
    {
     "name": "stdout",
     "output_type": "stream",
     "text": [
      "+--------------------+------------+\n",
      "|      Modules       | Parameters |\n",
      "+--------------------+------------+\n",
      "|    conv1.weight    |     64     |\n",
      "|     conv1.bias     |     16     |\n",
      "| batch_norm1.weight |     16     |\n",
      "|  batch_norm1.bias  |     16     |\n",
      "|    conv2.weight    |    9216    |\n",
      "|     conv2.bias     |     64     |\n",
      "| batch_norm2.weight |     64     |\n",
      "|  batch_norm2.bias  |     64     |\n",
      "|    conv3.weight    |   73728    |\n",
      "|     conv3.bias     |    128     |\n",
      "| batch_norm3.weight |    128     |\n",
      "|  batch_norm3.bias  |    128     |\n",
      "|     fc1.weight     |  2097152   |\n",
      "|      fc1.bias      |    1024    |\n",
      "|     fc2.weight     |   524288   |\n",
      "|      fc2.bias      |    512     |\n",
      "| batch_norm4.weight |    512     |\n",
      "|  batch_norm4.bias  |    512     |\n",
      "|     fc3.weight     |   131072   |\n",
      "|      fc3.bias      |    256     |\n",
      "|     fc4.weight     |    6400    |\n",
      "|      fc4.bias      |     25     |\n",
      "+--------------------+------------+\n",
      "Total Trainable Params: 2845385\n"
     ]
    },
    {
     "data": {
      "text/plain": [
       "2845385"
      ]
     },
     "execution_count": 10,
     "metadata": {},
     "output_type": "execute_result"
    }
   ],
   "source": [
    "from prettytable import PrettyTable\n",
    "\n",
    "def count_parameters(model):\n",
    "    table = PrettyTable([\"Modules\", \"Parameters\"])\n",
    "    total_params = 0\n",
    "    for name, parameter in model.named_parameters():\n",
    "        if not parameter.requires_grad: continue\n",
    "        param = parameter.numel()\n",
    "        table.add_row([name, param])\n",
    "        total_params+=param\n",
    "    print(table)\n",
    "    print(f\"Total Trainable Params: {total_params}\")\n",
    "    return total_params\n",
    "    \n",
    "count_parameters(Net())"
   ]
  },
  {
   "cell_type": "markdown",
   "metadata": {
    "papermill": {
     "duration": 0.019232,
     "end_time": "2020-09-15T20:10:59.029859",
     "exception": false,
     "start_time": "2020-09-15T20:10:59.010627",
     "status": "completed"
    },
    "tags": []
   },
   "source": [
    "## training"
   ]
  },
  {
   "cell_type": "code",
   "execution_count": 11,
   "metadata": {
    "execution": {
     "iopub.execute_input": "2020-09-15T20:10:59.426133Z",
     "iopub.status.busy": "2020-09-15T20:10:59.081608Z",
     "iopub.status.idle": "2020-09-15T20:11:52.772956Z",
     "shell.execute_reply": "2020-09-15T20:11:52.773652Z"
    },
    "papermill": {
     "duration": 53.72479,
     "end_time": "2020-09-15T20:11:52.773827",
     "exception": false,
     "start_time": "2020-09-15T20:10:59.049037",
     "status": "completed"
    },
    "tags": []
   },
   "outputs": [
    {
     "name": "stderr",
     "output_type": "stream",
     "text": [
      "/opt/conda/lib/python3.7/site-packages/torch/nn/functional.py:1569: UserWarning: nn.functional.sigmoid is deprecated. Use torch.sigmoid instead.\n",
      "  warnings.warn(\"nn.functional.sigmoid is deprecated. Use torch.sigmoid instead.\")\n"
     ]
    },
    {
     "name": "stdout",
     "output_type": "stream",
     "text": [
      "Epoch 1/25.. Train loss: 3.254.. Test loss: 3.207.. Test accuracy: 0.040\n",
      "Epoch 1/25.. Train loss: 2.841.. Test loss: 3.188.. Test accuracy: 0.080\n",
      "Epoch 1/25.. Train loss: 2.478.. Test loss: 3.147.. Test accuracy: 0.291\n",
      "Epoch 2/25.. Train loss: 2.158.. Test loss: 3.085.. Test accuracy: 0.352\n",
      "Epoch 2/25.. Train loss: 1.877.. Test loss: 2.996.. Test accuracy: 0.467\n",
      "Epoch 2/25.. Train loss: 1.629.. Test loss: 2.875.. Test accuracy: 0.529\n",
      "Epoch 3/25.. Train loss: 1.412.. Test loss: 2.741.. Test accuracy: 0.547\n",
      "Epoch 3/25.. Train loss: 1.211.. Test loss: 2.600.. Test accuracy: 0.528\n",
      "Epoch 3/25.. Train loss: 1.050.. Test loss: 2.415.. Test accuracy: 0.558\n",
      "Epoch 4/25.. Train loss: 0.894.. Test loss: 2.222.. Test accuracy: 0.542\n",
      "Epoch 4/25.. Train loss: 0.760.. Test loss: 2.048.. Test accuracy: 0.517\n",
      "Epoch 4/25.. Train loss: 0.650.. Test loss: 1.813.. Test accuracy: 0.584\n",
      "Epoch 5/25.. Train loss: 0.552.. Test loss: 1.627.. Test accuracy: 0.615\n",
      "Epoch 5/25.. Train loss: 0.467.. Test loss: 1.497.. Test accuracy: 0.617\n",
      "Epoch 5/25.. Train loss: 0.384.. Test loss: 1.312.. Test accuracy: 0.658\n",
      "Epoch 6/25.. Train loss: 0.328.. Test loss: 1.169.. Test accuracy: 0.681\n",
      "Epoch 6/25.. Train loss: 0.270.. Test loss: 1.075.. Test accuracy: 0.696\n",
      "Epoch 6/25.. Train loss: 0.227.. Test loss: 0.949.. Test accuracy: 0.726\n",
      "Epoch 7/25.. Train loss: 0.181.. Test loss: 0.848.. Test accuracy: 0.752\n",
      "Epoch 7/25.. Train loss: 0.148.. Test loss: 0.756.. Test accuracy: 0.776\n",
      "Epoch 7/25.. Train loss: 0.125.. Test loss: 0.666.. Test accuracy: 0.800\n",
      "Epoch 8/25.. Train loss: 0.095.. Test loss: 0.607.. Test accuracy: 0.814\n",
      "Epoch 8/25.. Train loss: 0.080.. Test loss: 0.542.. Test accuracy: 0.836\n",
      "Epoch 8/25.. Train loss: 0.071.. Test loss: 0.479.. Test accuracy: 0.853\n",
      "Epoch 9/25.. Train loss: 0.053.. Test loss: 0.421.. Test accuracy: 0.871\n",
      "Epoch 9/25.. Train loss: 0.046.. Test loss: 0.390.. Test accuracy: 0.878\n",
      "Epoch 9/25.. Train loss: 0.041.. Test loss: 0.374.. Test accuracy: 0.877\n",
      "Epoch 10/25.. Train loss: 0.033.. Test loss: 0.372.. Test accuracy: 0.878\n",
      "Epoch 10/25.. Train loss: 0.027.. Test loss: 0.351.. Test accuracy: 0.885\n",
      "Epoch 10/25.. Train loss: 0.022.. Test loss: 0.336.. Test accuracy: 0.895\n",
      "Epoch 11/25.. Train loss: 0.019.. Test loss: 0.311.. Test accuracy: 0.902\n",
      "Epoch 11/25.. Train loss: 0.017.. Test loss: 0.304.. Test accuracy: 0.908\n",
      "Epoch 11/25.. Train loss: 0.017.. Test loss: 0.284.. Test accuracy: 0.917\n",
      "Epoch 12/25.. Train loss: 0.013.. Test loss: 0.263.. Test accuracy: 0.923\n",
      "Epoch 12/25.. Train loss: 0.011.. Test loss: 0.242.. Test accuracy: 0.929\n",
      "Epoch 12/25.. Train loss: 0.012.. Test loss: 0.236.. Test accuracy: 0.932\n",
      "Epoch 13/25.. Train loss: 0.008.. Test loss: 0.239.. Test accuracy: 0.934\n",
      "Epoch 13/25.. Train loss: 0.008.. Test loss: 0.228.. Test accuracy: 0.938\n",
      "Epoch 13/25.. Train loss: 0.008.. Test loss: 0.216.. Test accuracy: 0.941\n",
      "Epoch 14/25.. Train loss: 0.006.. Test loss: 0.210.. Test accuracy: 0.944\n",
      "Epoch 14/25.. Train loss: 0.006.. Test loss: 0.210.. Test accuracy: 0.943\n",
      "Epoch 14/25.. Train loss: 0.005.. Test loss: 0.206.. Test accuracy: 0.946\n",
      "Epoch 15/25.. Train loss: 0.005.. Test loss: 0.201.. Test accuracy: 0.946\n",
      "Epoch 15/25.. Train loss: 0.004.. Test loss: 0.207.. Test accuracy: 0.946\n",
      "Epoch 15/25.. Train loss: 0.004.. Test loss: 0.198.. Test accuracy: 0.945\n",
      "Epoch 16/25.. Train loss: 0.004.. Test loss: 0.198.. Test accuracy: 0.946\n",
      "Epoch 16/25.. Train loss: 0.004.. Test loss: 0.201.. Test accuracy: 0.945\n",
      "Epoch 16/25.. Train loss: 0.004.. Test loss: 0.193.. Test accuracy: 0.949\n",
      "Epoch 17/25.. Train loss: 0.003.. Test loss: 0.201.. Test accuracy: 0.947\n",
      "Epoch 17/25.. Train loss: 0.003.. Test loss: 0.205.. Test accuracy: 0.947\n",
      "Epoch 17/25.. Train loss: 0.003.. Test loss: 0.205.. Test accuracy: 0.946\n",
      "Epoch 18/25.. Train loss: 0.003.. Test loss: 0.203.. Test accuracy: 0.946\n",
      "Epoch 18/25.. Train loss: 0.003.. Test loss: 0.201.. Test accuracy: 0.945\n",
      "Epoch 18/25.. Train loss: 0.003.. Test loss: 0.203.. Test accuracy: 0.944\n",
      "Epoch 19/25.. Train loss: 0.002.. Test loss: 0.207.. Test accuracy: 0.944\n",
      "Epoch 19/25.. Train loss: 0.002.. Test loss: 0.202.. Test accuracy: 0.944\n",
      "Epoch 19/25.. Train loss: 0.004.. Test loss: 0.198.. Test accuracy: 0.946\n",
      "Epoch 20/25.. Train loss: 0.002.. Test loss: 0.202.. Test accuracy: 0.945\n",
      "Epoch 20/25.. Train loss: 0.002.. Test loss: 0.198.. Test accuracy: 0.945\n",
      "Epoch 20/25.. Train loss: 0.002.. Test loss: 0.197.. Test accuracy: 0.946\n",
      "Epoch 21/25.. Train loss: 0.002.. Test loss: 0.201.. Test accuracy: 0.945\n",
      "Epoch 21/25.. Train loss: 0.002.. Test loss: 0.195.. Test accuracy: 0.947\n",
      "Epoch 21/25.. Train loss: 0.002.. Test loss: 0.196.. Test accuracy: 0.947\n",
      "Epoch 22/25.. Train loss: 0.002.. Test loss: 0.187.. Test accuracy: 0.948\n",
      "Epoch 22/25.. Train loss: 0.002.. Test loss: 0.185.. Test accuracy: 0.947\n",
      "Epoch 22/25.. Train loss: 0.002.. Test loss: 0.184.. Test accuracy: 0.947\n",
      "Epoch 23/25.. Train loss: 0.002.. Test loss: 0.178.. Test accuracy: 0.949\n",
      "Epoch 23/25.. Train loss: 0.002.. Test loss: 0.175.. Test accuracy: 0.950\n",
      "Epoch 23/25.. Train loss: 0.001.. Test loss: 0.185.. Test accuracy: 0.949\n",
      "Epoch 24/25.. Train loss: 0.002.. Test loss: 0.176.. Test accuracy: 0.951\n",
      "Epoch 24/25.. Train loss: 0.001.. Test loss: 0.179.. Test accuracy: 0.950\n",
      "Epoch 24/25.. Train loss: 0.001.. Test loss: 0.183.. Test accuracy: 0.949\n",
      "Epoch 25/25.. Train loss: 0.001.. Test loss: 0.184.. Test accuracy: 0.950\n",
      "Epoch 25/25.. Train loss: 0.002.. Test loss: 0.174.. Test accuracy: 0.952\n",
      "Epoch 25/25.. Train loss: 0.001.. Test loss: 0.180.. Test accuracy: 0.952\n"
     ]
    },
    {
     "name": "stderr",
     "output_type": "stream",
     "text": [
      "/opt/conda/lib/python3.7/site-packages/torch/serialization.py:402: UserWarning: Couldn't retrieve source code for container of type Net. It won't be checked for correctness upon loading.\n",
      "  \"type \" + obj.__name__ + \". It won't be checked \"\n"
     ]
    }
   ],
   "source": [
    "if wb:\n",
    "    wandb.init(project=\"sign-lang\")\n",
    "\n",
    "device = torch.device(\"cuda\" if torch.cuda.is_available() else \"cpu\")\n",
    "steps = 0\n",
    "print_every = 1\n",
    "running_loss = 0\n",
    "train_losses, test_losses = [], []\n",
    "\n",
    "\n",
    "net = Net().to(device)\n",
    "criterion = nn.CrossEntropyLoss()\n",
    "optimizer = torch.optim.Adam(net.parameters(), lr=lr)\n",
    "\n",
    "for epoch in range(epochs):\n",
    "    for inputs in trainloader:\n",
    "        steps += 1\n",
    "        inputs, labels = (inputs['image']).to(device), (inputs['label']).to(device)\n",
    "        optimizer.zero_grad()\n",
    "        out = net(inputs)\n",
    "        loss = criterion(out, labels)\n",
    "        loss.backward()\n",
    "        optimizer.step()\n",
    "        running_loss += loss.item()\n",
    "        \n",
    "        if steps % print_every == 0:\n",
    "            test_loss = 0\n",
    "            accuracy = 0\n",
    "            net.eval()\n",
    "            with torch.no_grad():\n",
    "                for inputs in testloader:\n",
    "                    inputs, labels = (inputs['image']).to(device), (inputs['label']).to(device)\n",
    "                    out = net(inputs)\n",
    "                    batch_loss = criterion(out, labels)\n",
    "                    test_loss += batch_loss.item()\n",
    "                    \n",
    "                    ps = torch.exp(out)\n",
    "                    top_p, top_class = ps.topk(1, dim=1)\n",
    "                    equals = top_class == labels.view(*top_class.shape)\n",
    "                    accuracy += torch.mean(equals.type(torch.FloatTensor)).item()\n",
    "            train_losses.append(running_loss/len(trainloader))\n",
    "            test_losses.append(test_loss/len(testloader))                    \n",
    "            print(f\"Epoch {epoch+1}/{epochs}.. \"\n",
    "                  f\"Train loss: {running_loss/print_every:.3f}.. \"\n",
    "                  f\"Test loss: {test_loss/len(testloader):.3f}.. \"\n",
    "                  f\"Test accuracy: {accuracy/len(testloader):.3f}\")\n",
    "            if wb:\n",
    "                wandb.log({'Train Loss':running_loss/print_every, 'Test Loss': test_loss/len(testloader), 'Test Accuracy':accuracy/len(testloader)})\n",
    "\n",
    "            running_loss = 0\n",
    "            net.train()\n",
    "dest = f'sign_lang_lr_{lr}_epo_{epochs}_'\n",
    "v = 0\n",
    "while os.path.isfile(dest+str(v)):\n",
    "    v += 1\n",
    "torch.save(net, dest+str(v)+'.pth')"
   ]
  },
  {
   "cell_type": "code",
   "execution_count": null,
   "metadata": {
    "papermill": {
     "duration": 0.045524,
     "end_time": "2020-09-15T20:11:52.865484",
     "exception": false,
     "start_time": "2020-09-15T20:11:52.819960",
     "status": "completed"
    },
    "tags": []
   },
   "outputs": [],
   "source": []
  },
  {
   "cell_type": "markdown",
   "metadata": {
    "papermill": {
     "duration": 0.045994,
     "end_time": "2020-09-15T20:11:52.956555",
     "exception": false,
     "start_time": "2020-09-15T20:11:52.910561",
     "status": "completed"
    },
    "tags": []
   },
   "source": [
    "## model 2"
   ]
  },
  {
   "cell_type": "code",
   "execution_count": 12,
   "metadata": {
    "execution": {
     "iopub.execute_input": "2020-09-15T20:11:53.055762Z",
     "iopub.status.busy": "2020-09-15T20:11:53.054644Z",
     "iopub.status.idle": "2020-09-15T20:11:53.058022Z",
     "shell.execute_reply": "2020-09-15T20:11:53.057502Z"
    },
    "papermill": {
     "duration": 0.055596,
     "end_time": "2020-09-15T20:11:53.058138",
     "exception": false,
     "start_time": "2020-09-15T20:11:53.002542",
     "status": "completed"
    },
    "tags": []
   },
   "outputs": [],
   "source": [
    "# import torch.nn as nn\n",
    "# import torch.nn.functional as F\n",
    "\n",
    "# class XNet(nn.Module):\n",
    "#     def __init__(self):\n",
    "#         super(XNet, self).__init__()\n",
    "#         self.conv1 = nn.Conv2d(1, 16, 2)\n",
    "#         self.pool = nn.MaxPool2d(2)\n",
    "#         self.batch_norm1 = nn.BatchNorm2d(16)\n",
    "#         self.conv2 = nn.Conv2d(16, 64, 3)\n",
    "#         self.batch_norm2 = nn.BatchNorm2d(64)\n",
    "#         self.conv3 = nn.Conv2d(64, 128, 3)\n",
    "#         self.batch_norm3 = nn.BatchNorm2d(128)\n",
    "#         self.fc1 = nn.Linear(2048, 1024)\n",
    "#         self.dropout = nn.Dropout(0.2)\n",
    "#         self.fc2 = nn.Linear(1024, 512)\n",
    "#         self.batch_norm4 = nn.BatchNorm1d(512)\n",
    "#         self.fc3 = nn.Linear(512, 256)\n",
    "#         self.fc4 = nn.Linear(256, 1)\n",
    "\n",
    "#     def forward(self, x):\n",
    "#         # correct shape\n",
    "#         x = x.reshape(-1, 1, 28, 28)\n",
    "#         # conv blocks\n",
    "#         x = self.pool(F.relu(self.conv1(x)))\n",
    "#         x = self.batch_norm1(x)\n",
    "#         x = self.swish(self.conv2(x))\n",
    "#         x = self.dropout(x)\n",
    "#         x = self.batch_norm2(x)\n",
    "#         x = self.pool(self.swish(self.conv3(x)))\n",
    "#         x = self.dropout(x)\n",
    "#         x = self.batch_norm3(x)\n",
    "#         # reshape for linear layers\n",
    "#         x = x.view(-1, 128*4*4)\n",
    "#         # linear block\n",
    "#         x = self.swish(self.fc1(x))\n",
    "#         x = self.dropout(x)\n",
    "#         x = self.swish(self.fc2(x))\n",
    "#         x = self.dropout(x)\n",
    "#         x = self.batch_norm4(x)\n",
    "#         x = F.relu(self.fc3(x))\n",
    "#         x = self.fc4(x)\n",
    "#         return x\n",
    "        \n",
    "#     def swish(self, x):\n",
    "#         return x * torch.sigmoid(x)\n",
    "\n",
    "# # net = XNet()\n",
    "# # net(torch.randn(2, 1, 28, 28))"
   ]
  },
  {
   "cell_type": "markdown",
   "metadata": {
    "papermill": {
     "duration": 0.045239,
     "end_time": "2020-09-15T20:11:53.149349",
     "exception": false,
     "start_time": "2020-09-15T20:11:53.104110",
     "status": "completed"
    },
    "tags": []
   },
   "source": [
    "## train 2"
   ]
  },
  {
   "cell_type": "code",
   "execution_count": 13,
   "metadata": {
    "execution": {
     "iopub.execute_input": "2020-09-15T20:11:53.246935Z",
     "iopub.status.busy": "2020-09-15T20:11:53.246037Z",
     "iopub.status.idle": "2020-09-15T20:11:53.248788Z",
     "shell.execute_reply": "2020-09-15T20:11:53.248328Z"
    },
    "papermill": {
     "duration": 0.053726,
     "end_time": "2020-09-15T20:11:53.248880",
     "exception": false,
     "start_time": "2020-09-15T20:11:53.195154",
     "status": "completed"
    },
    "tags": []
   },
   "outputs": [],
   "source": [
    "# if wb:\n",
    "#     wandb.init(project=\"sign-lang\")\n",
    "\n",
    "# device = torch.device(\"cuda\" if torch.cuda.is_available() else \"cpu\")\n",
    "# steps = 0\n",
    "# print_every = 1\n",
    "# running_loss = 0\n",
    "# train_losses, test_losses = [], []\n",
    "\n",
    "\n",
    "# net = XNet().to(device)\n",
    "# criterion = nn.MSELoss()\n",
    "# optimizer = torch.optim.Adam(net.parameters(), lr=lr)\n",
    "\n",
    "# for epoch in range(epochs):\n",
    "#     for inputs in trainloader:\n",
    "#         steps += 1\n",
    "#         inputs, labels = (inputs['image']).to(device), (inputs['label']).to(device)\n",
    "#         optimizer.zero_grad()\n",
    "#         out = net(inputs)\n",
    "#         loss = criterion(torch.squeeze(out), labels.float())\n",
    "#         loss.backward()\n",
    "#         optimizer.step()\n",
    "#         running_loss += loss.item()\n",
    "        \n",
    "#         if steps % print_every == 0:\n",
    "#             test_loss = 0\n",
    "#             accuracy = 0\n",
    "#             net.eval()\n",
    "#             with torch.no_grad():\n",
    "#                 for inputs in testloader:\n",
    "#                     inputs, labels = (inputs['image']).to(device), (inputs['label']).to(device)\n",
    "#                     out = net(inputs)\n",
    "#                     batch_loss = criterion(out, labels)\n",
    "#                     test_loss += batch_loss.item()\n",
    "                    \n",
    "#                     ps = torch.exp(out)\n",
    "#                     top_p, top_class = ps.topk(1, dim=1)\n",
    "#                     equals = top_class == labels.view(*top_class.shape)\n",
    "#                     accuracy += torch.mean(equals.type(torch.FloatTensor)).item()\n",
    "#             train_losses.append(running_loss/len(trainloader))\n",
    "#             test_losses.append(test_loss/len(testloader))                    \n",
    "#             print(f\"Epoch {epoch+1}/{epochs}.. \"\n",
    "#                   f\"Train loss: {running_loss/print_every:.3f}.. \"\n",
    "#                   f\"Test loss: {test_loss/len(testloader):.3f}.. \"\n",
    "#                   f\"Test accuracy: {accuracy/len(testloader):.3f}\")\n",
    "#             if wb:\n",
    "#                 wandb.log({'Train Loss':running_loss/print_every, 'Test Loss': test_loss/len(testloader), 'Test Accuracy':accuracy/len(testloader)})\n",
    "\n",
    "#             running_loss = 0\n",
    "#             net.train()\n",
    "# dest = f'Xsign_lang_lr_{lr}_epo_{epochs}'\n",
    "# v = 0\n",
    "# while os.path.isfile(dest+str(v)):\n",
    "#     v += 1\n",
    "# torch.save(net, dest+str(v)+'.pth')"
   ]
  },
  {
   "cell_type": "code",
   "execution_count": null,
   "metadata": {
    "papermill": {
     "duration": 0.045836,
     "end_time": "2020-09-15T20:11:53.340447",
     "exception": false,
     "start_time": "2020-09-15T20:11:53.294611",
     "status": "completed"
    },
    "tags": []
   },
   "outputs": [],
   "source": []
  }
 ],
 "metadata": {
  "kernelspec": {
   "display_name": "Python 3",
   "language": "python",
   "name": "python3"
  },
  "language_info": {
   "codemirror_mode": {
    "name": "ipython",
    "version": 3
   },
   "file_extension": ".py",
   "mimetype": "text/x-python",
   "name": "python",
   "nbconvert_exporter": "python",
   "pygments_lexer": "ipython3",
   "version": "3.7.6"
  },
  "papermill": {
   "duration": 74.804245,
   "end_time": "2020-09-15T20:11:54.571940",
   "environment_variables": {},
   "exception": null,
   "input_path": "__notebook__.ipynb",
   "output_path": "__notebook__.ipynb",
   "parameters": {},
   "start_time": "2020-09-15T20:10:39.767695",
   "version": "2.1.0"
  }
 },
 "nbformat": 4,
 "nbformat_minor": 4
}
